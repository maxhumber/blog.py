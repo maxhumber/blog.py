{
 "cells": [
  {
   "cell_type": "markdown",
   "metadata": {
    "inputHidden": false,
    "outputHidden": false
   },
   "source": [
    "```\n",
    "title: How to Win Fantasy Hockey\n",
    "date: 2019-09-28\n",
    "tags: python\n",
    "slug: scraping_fantasy_hockey\n",
    "```"
   ]
  },
  {
   "cell_type": "markdown",
   "metadata": {},
   "source": [
    "#### How to Win Fantasy Hockey"
   ]
  },
  {
   "cell_type": "markdown",
   "metadata": {},
   "source": [
    "*A recipe for using python to scrape player projection data and build a value over replacement ranking model*\n",
    "\n",
    "Jupyter notebook for this blog post available [here](https://github.com/maxhumber/maxhumber.com/blob/master/blog/2019-09-28_scraping_fantasy_hockey.ipynb)\n",
    "<br/>\n",
    "<br/>"
   ]
  },
  {
   "cell_type": "markdown",
   "metadata": {},
   "source": [
    "№1 Identify a data source ([CBS Sports](https://www.cbssports.com/fantasy/hockey/stats/F/2019/season/projections/) is a good option)"
   ]
  },
  {
   "cell_type": "markdown",
   "metadata": {},
   "source": [
    "№2 `get` the html data with [gazpacho](https://maxhumber.github.io/gazpacho/)"
   ]
  },
  {
   "cell_type": "code",
   "execution_count": 1,
   "metadata": {},
   "outputs": [],
   "source": [
    "from gazpacho import get\n",
    "\n",
    "position = 'F'\n",
    "\n",
    "base = f'https://www.cbssports.com/fantasy/hockey/stats'\n",
    "url = f'{base}/{position}/2019/season/projections/'\n",
    "\n",
    "html = get(url)"
   ]
  },
  {
   "cell_type": "markdown",
   "metadata": {},
   "source": [
    "№3 Pass the captured html to a `Soup` parser"
   ]
  },
  {
   "cell_type": "code",
   "execution_count": 2,
   "metadata": {},
   "outputs": [],
   "source": [
    "from gazpacho import Soup\n",
    "\n",
    "soup = Soup(html)"
   ]
  },
  {
   "cell_type": "markdown",
   "metadata": {},
   "source": [
    "№4 `find` the html tags that contain player projection data"
   ]
  },
  {
   "cell_type": "code",
   "execution_count": 3,
   "metadata": {},
   "outputs": [],
   "source": [
    "# HTML: <tr class=\"TableBase-bodyTr \">\n",
    "rows = soup.find('tr', {'class': 'TableBase-bodyTr '})"
   ]
  },
  {
   "cell_type": "markdown",
   "metadata": {},
   "source": [
    "№5. Capture a single row (and inspect for good measure)"
   ]
  },
  {
   "cell_type": "code",
   "execution_count": 4,
   "metadata": {},
   "outputs": [],
   "source": [
    "row = rows[0]"
   ]
  },
  {
   "cell_type": "markdown",
   "metadata": {},
   "source": [
    "№6 Use `find` to grab those tags that map to player name, position, and projected Fantasy Points"
   ]
  },
  {
   "cell_type": "code",
   "execution_count": 5,
   "metadata": {},
   "outputs": [
    {
     "data": {
      "text/plain": [
       "367.3"
      ]
     },
     "execution_count": 5,
     "metadata": {},
     "output_type": "execute_result"
    }
   ],
   "source": [
    "# name\n",
    "row.find('span', {'class': 'CellPlayerName--long'}).find('a').text\n",
    "\n",
    "# position\n",
    "(row.find('span', {'class': 'CellPlayerName--long'})\n",
    "     .find('span', {'class': 'CellPlayerName-position'}).text\n",
    ")\n",
    "\n",
    "# points\n",
    "float(row.find('td', {'class': 'TableBase-bodyTd'})[1].text)"
   ]
  },
  {
   "cell_type": "markdown",
   "metadata": {},
   "source": [
    "№7 Wrap these `find` operations into a function"
   ]
  },
  {
   "cell_type": "code",
   "execution_count": 6,
   "metadata": {},
   "outputs": [
    {
     "data": {
      "text/plain": [
       "('Nikita Kucherov', 'RW', 367.3)"
      ]
     },
     "execution_count": 6,
     "metadata": {},
     "output_type": "execute_result"
    }
   ],
   "source": [
    "row = rows[0]\n",
    "\n",
    "def parse_row(row):\n",
    "    meta = row.find('span', {'class': 'CellPlayerName--long'})\n",
    "    name = meta.find('a').text\n",
    "    position = meta.find('span', {'class': 'CellPlayerName-position'}).text\n",
    "    points = float(row.find('td', {'class': 'TableBase-bodyTd'})[1].text)\n",
    "    return name, position, points\n",
    "\n",
    "parse_row(row)"
   ]
  },
  {
   "cell_type": "markdown",
   "metadata": {},
   "source": [
    "№8 Make sure that the function works for all the captured rows"
   ]
  },
  {
   "cell_type": "code",
   "execution_count": 7,
   "metadata": {},
   "outputs": [
    {
     "name": "stdout",
     "output_type": "stream",
     "text": [
      "[('Nick Shore', 'C', 166.6), ('Mats Zuccarello', 'RW', 165.8)]\n"
     ]
    }
   ],
   "source": [
    "forwards = [parse_row(row) for row in rows]\n",
    "print(forwards[-2:])"
   ]
  },
  {
   "cell_type": "markdown",
   "metadata": {},
   "source": [
    "№9 Bundle up the logic so that it can be applied to multiple pages"
   ]
  },
  {
   "cell_type": "code",
   "execution_count": 8,
   "metadata": {},
   "outputs": [],
   "source": [
    "def scrape_position(position):\n",
    "    base = f'https://www.cbssports.com/fantasy/hockey/stats'\n",
    "    url = f'{base}/{position}/2019/season/projections/'\n",
    "    html = get(url)\n",
    "    soup = Soup(html)\n",
    "    rows = soup.find('tr', {'class': 'TableBase-bodyTr '})\n",
    "    data = [parse_row(row) for row in rows]\n",
    "    return data"
   ]
  },
  {
   "attachments": {},
   "cell_type": "markdown",
   "metadata": {},
   "source": [
    "№10 Scrape each page that contains player projection data"
   ]
  },
  {
   "cell_type": "code",
   "execution_count": 9,
   "metadata": {},
   "outputs": [],
   "source": [
    "# F for Forwards\n",
    "# D for Defence\n",
    "# G for goalies\n",
    "\n",
    "import time\n",
    "\n",
    "data = []\n",
    "for position in ['F', 'D', 'G']:\n",
    "    d = scrape_position(position)\n",
    "    data.extend(d)\n",
    "    time.sleep(1)"
   ]
  },
  {
   "cell_type": "markdown",
   "metadata": {},
   "source": [
    "№11 Stuff the captured data into a pandas `DataFrame`"
   ]
  },
  {
   "cell_type": "code",
   "execution_count": 10,
   "metadata": {},
   "outputs": [
    {
     "data": {
      "text/html": [
       "<div>\n",
       "<style scoped>\n",
       "    .dataframe tbody tr th:only-of-type {\n",
       "        vertical-align: middle;\n",
       "    }\n",
       "\n",
       "    .dataframe tbody tr th {\n",
       "        vertical-align: top;\n",
       "    }\n",
       "\n",
       "    .dataframe thead th {\n",
       "        text-align: right;\n",
       "    }\n",
       "</style>\n",
       "<table border=\"1\" class=\"dataframe\">\n",
       "  <thead>\n",
       "    <tr style=\"text-align: right;\">\n",
       "      <th></th>\n",
       "      <th>name</th>\n",
       "      <th>position</th>\n",
       "      <th>points</th>\n",
       "    </tr>\n",
       "  </thead>\n",
       "  <tbody>\n",
       "    <tr>\n",
       "      <th>119</th>\n",
       "      <td>Alex Pietrangelo</td>\n",
       "      <td>D</td>\n",
       "      <td>145.3</td>\n",
       "    </tr>\n",
       "    <tr>\n",
       "      <th>136</th>\n",
       "      <td>Justin Faulk</td>\n",
       "      <td>D</td>\n",
       "      <td>123.5</td>\n",
       "    </tr>\n",
       "    <tr>\n",
       "      <th>177</th>\n",
       "      <td>Danny DeKeyser</td>\n",
       "      <td>D</td>\n",
       "      <td>92.4</td>\n",
       "    </tr>\n",
       "    <tr>\n",
       "      <th>140</th>\n",
       "      <td>Drew Doughty</td>\n",
       "      <td>D</td>\n",
       "      <td>119.8</td>\n",
       "    </tr>\n",
       "    <tr>\n",
       "      <th>176</th>\n",
       "      <td>Esa Lindell</td>\n",
       "      <td>D</td>\n",
       "      <td>92.4</td>\n",
       "    </tr>\n",
       "  </tbody>\n",
       "</table>\n",
       "</div>"
      ],
      "text/plain": [
       "                 name position  points\n",
       "119  Alex Pietrangelo        D   145.3\n",
       "136      Justin Faulk        D   123.5\n",
       "177    Danny DeKeyser        D    92.4\n",
       "140      Drew Doughty        D   119.8\n",
       "176       Esa Lindell        D    92.4"
      ]
     },
     "execution_count": 10,
     "metadata": {},
     "output_type": "execute_result"
    }
   ],
   "source": [
    "import pandas as pd\n",
    "\n",
    "df = pd.DataFrame(data, columns=['name', 'position', 'points'])\n",
    "df.sample(5)"
   ]
  },
  {
   "cell_type": "markdown",
   "metadata": {},
   "source": [
    "№12 Calculate the <a href=\"https://en.wikipedia.org/wiki/Value_over_replacement_player\">value over player replacement</a> score for each player"
   ]
  },
  {
   "cell_type": "code",
   "execution_count": 11,
   "metadata": {},
   "outputs": [],
   "source": [
    "pool_size = 8\n",
    "starters = {'C': 1, 'LW': 1, 'RW': 1, 'D': 2, 'G': 1}\n",
    "\n",
    "for position, slots in starters.items():\n",
    "    replacement = (\n",
    "        df[df['position'] == position]\n",
    "        .sort_values('points', ascending=False)\n",
    "        .head(slots * pool_size)\n",
    "        ['points']\n",
    "        .mean()\n",
    "    )\n",
    "    df.loc[df['position'] == position, 'vorp'] = df['points'] - replacement"
   ]
  },
  {
   "cell_type": "markdown",
   "metadata": {},
   "source": [
    "№13 Re-rank and draft players according to their VORP rank"
   ]
  },
  {
   "cell_type": "code",
   "execution_count": 12,
   "metadata": {},
   "outputs": [
    {
     "data": {
      "text/html": [
       "<div>\n",
       "<style scoped>\n",
       "    .dataframe tbody tr th:only-of-type {\n",
       "        vertical-align: middle;\n",
       "    }\n",
       "\n",
       "    .dataframe tbody tr th {\n",
       "        vertical-align: top;\n",
       "    }\n",
       "\n",
       "    .dataframe thead th {\n",
       "        text-align: right;\n",
       "    }\n",
       "</style>\n",
       "<table border=\"1\" class=\"dataframe\">\n",
       "  <thead>\n",
       "    <tr style=\"text-align: right;\">\n",
       "      <th></th>\n",
       "      <th>name</th>\n",
       "      <th>position</th>\n",
       "      <th>points</th>\n",
       "      <th>vorp</th>\n",
       "      <th>vorp_rank</th>\n",
       "    </tr>\n",
       "  </thead>\n",
       "  <tbody>\n",
       "    <tr>\n",
       "      <th>0</th>\n",
       "      <td>Nikita Kucherov</td>\n",
       "      <td>RW</td>\n",
       "      <td>367.3</td>\n",
       "      <td>77.75000</td>\n",
       "      <td>1.0</td>\n",
       "    </tr>\n",
       "    <tr>\n",
       "      <th>2</th>\n",
       "      <td>Leon Draisaitl</td>\n",
       "      <td>LW</td>\n",
       "      <td>329.7</td>\n",
       "      <td>51.87500</td>\n",
       "      <td>2.0</td>\n",
       "    </tr>\n",
       "    <tr>\n",
       "      <th>1</th>\n",
       "      <td>Connor McDavid</td>\n",
       "      <td>C</td>\n",
       "      <td>346.2</td>\n",
       "      <td>49.61250</td>\n",
       "      <td>3.0</td>\n",
       "    </tr>\n",
       "    <tr>\n",
       "      <th>200</th>\n",
       "      <td>Andrei Vasilevskiy</td>\n",
       "      <td>G</td>\n",
       "      <td>437.1</td>\n",
       "      <td>38.20000</td>\n",
       "      <td>4.0</td>\n",
       "    </tr>\n",
       "    <tr>\n",
       "      <th>100</th>\n",
       "      <td>Brent Burns</td>\n",
       "      <td>D</td>\n",
       "      <td>235.8</td>\n",
       "      <td>37.33125</td>\n",
       "      <td>5.0</td>\n",
       "    </tr>\n",
       "    <tr>\n",
       "      <th>101</th>\n",
       "      <td>Dustin Byfuglien</td>\n",
       "      <td>D</td>\n",
       "      <td>233.5</td>\n",
       "      <td>35.03125</td>\n",
       "      <td>6.0</td>\n",
       "    </tr>\n",
       "    <tr>\n",
       "      <th>102</th>\n",
       "      <td>Morgan Rielly</td>\n",
       "      <td>D</td>\n",
       "      <td>225.6</td>\n",
       "      <td>27.13125</td>\n",
       "      <td>7.0</td>\n",
       "    </tr>\n",
       "    <tr>\n",
       "      <th>6</th>\n",
       "      <td>Alex Ovechkin</td>\n",
       "      <td>LW</td>\n",
       "      <td>304.2</td>\n",
       "      <td>26.37500</td>\n",
       "      <td>8.0</td>\n",
       "    </tr>\n",
       "    <tr>\n",
       "      <th>3</th>\n",
       "      <td>Patrick Kane</td>\n",
       "      <td>RW</td>\n",
       "      <td>313.2</td>\n",
       "      <td>23.65000</td>\n",
       "      <td>9.0</td>\n",
       "    </tr>\n",
       "    <tr>\n",
       "      <th>103</th>\n",
       "      <td>John Carlson</td>\n",
       "      <td>D</td>\n",
       "      <td>221.1</td>\n",
       "      <td>22.63125</td>\n",
       "      <td>10.0</td>\n",
       "    </tr>\n",
       "    <tr>\n",
       "      <th>104</th>\n",
       "      <td>Mark Giordano</td>\n",
       "      <td>D</td>\n",
       "      <td>218.8</td>\n",
       "      <td>20.33125</td>\n",
       "      <td>11.0</td>\n",
       "    </tr>\n",
       "    <tr>\n",
       "      <th>8</th>\n",
       "      <td>Brad Marchand</td>\n",
       "      <td>LW</td>\n",
       "      <td>297.3</td>\n",
       "      <td>19.47500</td>\n",
       "      <td>12.0</td>\n",
       "    </tr>\n",
       "    <tr>\n",
       "      <th>5</th>\n",
       "      <td>Mikko Rantanen</td>\n",
       "      <td>RW</td>\n",
       "      <td>305.0</td>\n",
       "      <td>15.45000</td>\n",
       "      <td>13.0</td>\n",
       "    </tr>\n",
       "    <tr>\n",
       "      <th>105</th>\n",
       "      <td>Tyson Barrie</td>\n",
       "      <td>D</td>\n",
       "      <td>212.8</td>\n",
       "      <td>14.33125</td>\n",
       "      <td>14.0</td>\n",
       "    </tr>\n",
       "    <tr>\n",
       "      <th>106</th>\n",
       "      <td>Kris Letang</td>\n",
       "      <td>D</td>\n",
       "      <td>212.6</td>\n",
       "      <td>14.13125</td>\n",
       "      <td>15.0</td>\n",
       "    </tr>\n",
       "    <tr>\n",
       "      <th>4</th>\n",
       "      <td>Nathan MacKinnon</td>\n",
       "      <td>C</td>\n",
       "      <td>310.7</td>\n",
       "      <td>14.11250</td>\n",
       "      <td>16.0</td>\n",
       "    </tr>\n",
       "    <tr>\n",
       "      <th>201</th>\n",
       "      <td>Frederik Andersen</td>\n",
       "      <td>G</td>\n",
       "      <td>411.9</td>\n",
       "      <td>13.00000</td>\n",
       "      <td>17.0</td>\n",
       "    </tr>\n",
       "    <tr>\n",
       "      <th>202</th>\n",
       "      <td>Braden Holtby</td>\n",
       "      <td>G</td>\n",
       "      <td>402.1</td>\n",
       "      <td>3.20000</td>\n",
       "      <td>18.0</td>\n",
       "    </tr>\n",
       "    <tr>\n",
       "      <th>7</th>\n",
       "      <td>Steven Stamkos</td>\n",
       "      <td>C</td>\n",
       "      <td>298.6</td>\n",
       "      <td>2.01250</td>\n",
       "      <td>19.0</td>\n",
       "    </tr>\n",
       "    <tr>\n",
       "      <th>9</th>\n",
       "      <td>Sidney Crosby</td>\n",
       "      <td>C</td>\n",
       "      <td>297.0</td>\n",
       "      <td>0.41250</td>\n",
       "      <td>20.0</td>\n",
       "    </tr>\n",
       "  </tbody>\n",
       "</table>\n",
       "</div>"
      ],
      "text/plain": [
       "                   name position  points      vorp  vorp_rank\n",
       "0       Nikita Kucherov       RW   367.3  77.75000        1.0\n",
       "2        Leon Draisaitl       LW   329.7  51.87500        2.0\n",
       "1        Connor McDavid        C   346.2  49.61250        3.0\n",
       "200  Andrei Vasilevskiy        G   437.1  38.20000        4.0\n",
       "100         Brent Burns        D   235.8  37.33125        5.0\n",
       "101    Dustin Byfuglien        D   233.5  35.03125        6.0\n",
       "102       Morgan Rielly        D   225.6  27.13125        7.0\n",
       "6         Alex Ovechkin       LW   304.2  26.37500        8.0\n",
       "3          Patrick Kane       RW   313.2  23.65000        9.0\n",
       "103        John Carlson        D   221.1  22.63125       10.0\n",
       "104       Mark Giordano        D   218.8  20.33125       11.0\n",
       "8         Brad Marchand       LW   297.3  19.47500       12.0\n",
       "5        Mikko Rantanen       RW   305.0  15.45000       13.0\n",
       "105        Tyson Barrie        D   212.8  14.33125       14.0\n",
       "106         Kris Letang        D   212.6  14.13125       15.0\n",
       "4      Nathan MacKinnon        C   310.7  14.11250       16.0\n",
       "201   Frederik Andersen        G   411.9  13.00000       17.0\n",
       "202       Braden Holtby        G   402.1   3.20000       18.0\n",
       "7        Steven Stamkos        C   298.6   2.01250       19.0\n",
       "9         Sidney Crosby        C   297.0   0.41250       20.0"
      ]
     },
     "execution_count": 12,
     "metadata": {},
     "output_type": "execute_result"
    }
   ],
   "source": [
    "df['vorp_rank'] = df['vorp'].rank(method='average', ascending=False)\n",
    "df.sort_values('vorp_rank').head(20)"
   ]
  },
  {
   "cell_type": "markdown",
   "metadata": {},
   "source": [
    "№14 Profit"
   ]
  }
 ],
 "metadata": {
  "kernel_info": {
   "name": "python3"
  },
  "kernelspec": {
   "display_name": "Python 3",
   "language": "python",
   "name": "python3"
  },
  "language_info": {
   "codemirror_mode": {
    "name": "ipython",
    "version": 3
   },
   "file_extension": ".py",
   "mimetype": "text/x-python",
   "name": "python",
   "nbconvert_exporter": "python",
   "pygments_lexer": "ipython3",
   "version": "3.7.3"
  },
  "nteract": {
   "version": "0.15.0"
  }
 },
 "nbformat": 4,
 "nbformat_minor": 2
}
