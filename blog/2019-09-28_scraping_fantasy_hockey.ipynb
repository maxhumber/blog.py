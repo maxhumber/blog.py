{
 "cells": [
  {
   "cell_type": "markdown",
   "metadata": {
    "inputHidden": false,
    "outputHidden": false
   },
   "source": [
    "```\n",
    "title: How to Win Fantasy Hockey\n",
    "date: 2019-09-28\n",
    "tags: python\n",
    "slug: scraping_fantasy_hockey\n",
    "```"
   ]
  },
  {
   "cell_type": "markdown",
   "metadata": {},
   "source": [
    "#### How to Win Fantasy Hockey"
   ]
  },
  {
   "cell_type": "markdown",
   "metadata": {},
   "source": [
    "*A recipe for using python to scrape player projection data and build a value over replacement ranking model*\n",
    "\n",
    "Jupyter notebook for this blog post available [here](https://github.com/maxhumber/maxhumber.com/blob/master/blog/2019-09-28_scraping_fantasy_hockey.ipynb)\n",
    "<br/>\n",
    "<br/>"
   ]
  },
  {
   "cell_type": "markdown",
   "metadata": {},
   "source": [
    "№1 Identify a data source ([CBS Sports](https://www.cbssports.com/fantasy/hockey/stats/F/2019/season/projections/) is a good option)"
   ]
  },
  {
   "cell_type": "markdown",
   "metadata": {},
   "source": [
    "№2 `get` the html data with [gazpacho](https://maxhumber.github.io/gazpacho/)"
   ]
  },
  {
   "cell_type": "code",
   "execution_count": 1,
   "metadata": {},
   "outputs": [],
   "source": [
    "from gazpacho import get\n",
    "\n",
    "position = 'F'\n",
    "\n",
    "base = f'https://www.cbssports.com/fantasy/hockey/stats'\n",
    "url = f'{base}/{position}/2019/restofseason/projections/'\n",
    "\n",
    "html = get(url)"
   ]
  },
  {
   "cell_type": "markdown",
   "metadata": {},
   "source": [
    "№3 Pass the captured html to a `Soup` parser"
   ]
  },
  {
   "cell_type": "code",
   "execution_count": 2,
   "metadata": {},
   "outputs": [],
   "source": [
    "from gazpacho import Soup\n",
    "\n",
    "soup = Soup(html)"
   ]
  },
  {
   "cell_type": "markdown",
   "metadata": {},
   "source": [
    "№4 `find` the html tags that contain player projection data"
   ]
  },
  {
   "cell_type": "code",
   "execution_count": 3,
   "metadata": {},
   "outputs": [],
   "source": [
    "# HTML: <tr class=\"TableBase-bodyTr \">\n",
    "rows = soup.find('tr', {'class': 'TableBase-bodyTr '})"
   ]
  },
  {
   "cell_type": "markdown",
   "metadata": {},
   "source": [
    "№5. Capture a single row (and inspect for good measure)"
   ]
  },
  {
   "cell_type": "code",
   "execution_count": 4,
   "metadata": {},
   "outputs": [],
   "source": [
    "row = rows[0]"
   ]
  },
  {
   "cell_type": "markdown",
   "metadata": {},
   "source": [
    "№6 Use `find` to grab those tags that map to player name, position, and projected Fantasy Points"
   ]
  },
  {
   "cell_type": "code",
   "execution_count": 5,
   "metadata": {},
   "outputs": [
    {
     "data": {
      "text/plain": [
       "361.1"
      ]
     },
     "execution_count": 5,
     "metadata": {},
     "output_type": "execute_result"
    }
   ],
   "source": [
    "# name\n",
    "row.find('span', {'class': 'CellPlayerName--long'}).find('a').text\n",
    "\n",
    "# position\n",
    "(row.find('span', {'class': 'CellPlayerName--long'})\n",
    "     .find('span', {'class': 'CellPlayerName-position'}).text\n",
    ")\n",
    "\n",
    "# points\n",
    "float(row.find('td', {'class': 'TableBase-bodyTd'})[1].text)"
   ]
  },
  {
   "cell_type": "markdown",
   "metadata": {},
   "source": [
    "№7 Wrap these `find` operations into a function"
   ]
  },
  {
   "cell_type": "code",
   "execution_count": 6,
   "metadata": {},
   "outputs": [
    {
     "data": {
      "text/plain": [
       "('Nikita Kucherov', 'RW', 361.1)"
      ]
     },
     "execution_count": 6,
     "metadata": {},
     "output_type": "execute_result"
    }
   ],
   "source": [
    "row = rows[0]\n",
    "\n",
    "def parse_row(row):\n",
    "    meta = row.find('span', {'class': 'CellPlayerName--long'})\n",
    "    try:\n",
    "        name = meta.find('a').text\n",
    "    except AttributeError:\n",
    "        name = meta.text\n",
    "    position = meta.find('span', {'class': 'CellPlayerName-position'}).text\n",
    "    points = float(row.find('td', {'class': 'TableBase-bodyTd'})[1].text)\n",
    "    return name, position, points\n",
    "\n",
    "parse_row(row)"
   ]
  },
  {
   "cell_type": "markdown",
   "metadata": {},
   "source": [
    "№8 Make sure that the function works for all the captured rows"
   ]
  },
  {
   "cell_type": "code",
   "execution_count": 7,
   "metadata": {},
   "outputs": [
    {
     "data": {
      "text/plain": [
       "[('Brandon Pirri', 'LW', 165.4), ('Pavel Buchnevich', 'RW', 164.9)]"
      ]
     },
     "execution_count": 7,
     "metadata": {},
     "output_type": "execute_result"
    }
   ],
   "source": [
    "players = []\n",
    "for row in rows:\n",
    "    try: \n",
    "        players.append(parse_row(row))\n",
    "    except AttributeError:\n",
    "        pass\n",
    "\n",
    "players[-2:]"
   ]
  },
  {
   "cell_type": "markdown",
   "metadata": {},
   "source": [
    "№9 Bundle up the logic so that it can be applied to multiple pages"
   ]
  },
  {
   "cell_type": "code",
   "execution_count": 8,
   "metadata": {},
   "outputs": [],
   "source": [
    "def scrape_position(position):\n",
    "    base = f'https://www.cbssports.com/fantasy/hockey/stats'\n",
    "    url = f'{base}/{position}/2019/restofseason/projections/'\n",
    "    html = get(url)\n",
    "    soup = Soup(html)\n",
    "    rows = soup.find('tr', {'class': 'TableBase-bodyTr '})\n",
    "    data = []\n",
    "    for row in rows:\n",
    "        try: \n",
    "            data.append(parse_row(row))\n",
    "        except AttributeError:\n",
    "            pass\n",
    "    return data"
   ]
  },
  {
   "cell_type": "markdown",
   "metadata": {},
   "source": [
    "№10 Scrape each page that contains player projection data"
   ]
  },
  {
   "cell_type": "code",
   "execution_count": 9,
   "metadata": {},
   "outputs": [],
   "source": [
    "# F for Forwards\n",
    "# D for Defence\n",
    "# G for goalies\n",
    "\n",
    "import time\n",
    "\n",
    "data = []\n",
    "for position in ['F', 'D', 'G']:\n",
    "    d = scrape_position(position)\n",
    "    data.extend(d)\n",
    "    time.sleep(1)"
   ]
  },
  {
   "cell_type": "markdown",
   "metadata": {},
   "source": [
    "№11 Stuff the captured data into a pandas `DataFrame`"
   ]
  },
  {
   "cell_type": "code",
   "execution_count": 10,
   "metadata": {},
   "outputs": [
    {
     "data": {
      "text/html": [
       "<div>\n",
       "<style scoped>\n",
       "    .dataframe tbody tr th:only-of-type {\n",
       "        vertical-align: middle;\n",
       "    }\n",
       "\n",
       "    .dataframe tbody tr th {\n",
       "        vertical-align: top;\n",
       "    }\n",
       "\n",
       "    .dataframe thead th {\n",
       "        text-align: right;\n",
       "    }\n",
       "</style>\n",
       "<table border=\"1\" class=\"dataframe\">\n",
       "  <thead>\n",
       "    <tr style=\"text-align: right;\">\n",
       "      <th></th>\n",
       "      <th>name</th>\n",
       "      <th>position</th>\n",
       "      <th>points</th>\n",
       "    </tr>\n",
       "  </thead>\n",
       "  <tbody>\n",
       "    <tr>\n",
       "      <th>171</th>\n",
       "      <td>Mike Matheson</td>\n",
       "      <td>D</td>\n",
       "      <td>92.0</td>\n",
       "    </tr>\n",
       "    <tr>\n",
       "      <th>60</th>\n",
       "      <td>David Perron</td>\n",
       "      <td>RW</td>\n",
       "      <td>196.9</td>\n",
       "    </tr>\n",
       "    <tr>\n",
       "      <th>86</th>\n",
       "      <td>Tomas Tatar</td>\n",
       "      <td>LW</td>\n",
       "      <td>176.1</td>\n",
       "    </tr>\n",
       "    <tr>\n",
       "      <th>190</th>\n",
       "      <td>Dennis Cholowski</td>\n",
       "      <td>D</td>\n",
       "      <td>83.0</td>\n",
       "    </tr>\n",
       "    <tr>\n",
       "      <th>257</th>\n",
       "      <td>Thatcher Demko</td>\n",
       "      <td>G</td>\n",
       "      <td>89.0</td>\n",
       "    </tr>\n",
       "  </tbody>\n",
       "</table>\n",
       "</div>"
      ],
      "text/plain": [
       "                 name position  points\n",
       "171     Mike Matheson        D    92.0\n",
       "60       David Perron       RW   196.9\n",
       "86        Tomas Tatar       LW   176.1\n",
       "190  Dennis Cholowski        D    83.0\n",
       "257    Thatcher Demko        G    89.0"
      ]
     },
     "execution_count": 10,
     "metadata": {},
     "output_type": "execute_result"
    }
   ],
   "source": [
    "import pandas as pd\n",
    "\n",
    "df = pd.DataFrame(data, columns=['name', 'position', 'points'])\n",
    "df.sample(5)"
   ]
  },
  {
   "cell_type": "markdown",
   "metadata": {},
   "source": [
    "№12 Calculate the <a href=\"https://en.wikipedia.org/wiki/Value_over_replacement_player\">value over player replacement</a> score for each player"
   ]
  },
  {
   "cell_type": "code",
   "execution_count": 11,
   "metadata": {},
   "outputs": [],
   "source": [
    "pool_size = 8\n",
    "starters = {'C': 1, 'LW': 1, 'RW': 1, 'D': 2, 'G': 1}\n",
    "\n",
    "for position, slots in starters.items():\n",
    "    replacement = (\n",
    "        df[df['position'] == position]\n",
    "        .sort_values('points', ascending=False)\n",
    "        .head(slots * pool_size)\n",
    "        ['points']\n",
    "        .mean()\n",
    "    )\n",
    "    df.loc[df['position'] == position, 'vorp'] = df['points'] - replacement"
   ]
  },
  {
   "cell_type": "markdown",
   "metadata": {},
   "source": [
    "№13 Re-rank and draft players according to their VORP rank"
   ]
  },
  {
   "cell_type": "code",
   "execution_count": 12,
   "metadata": {},
   "outputs": [
    {
     "data": {
      "text/html": [
       "<div>\n",
       "<style scoped>\n",
       "    .dataframe tbody tr th:only-of-type {\n",
       "        vertical-align: middle;\n",
       "    }\n",
       "\n",
       "    .dataframe tbody tr th {\n",
       "        vertical-align: top;\n",
       "    }\n",
       "\n",
       "    .dataframe thead th {\n",
       "        text-align: right;\n",
       "    }\n",
       "</style>\n",
       "<table border=\"1\" class=\"dataframe\">\n",
       "  <thead>\n",
       "    <tr style=\"text-align: right;\">\n",
       "      <th></th>\n",
       "      <th>name</th>\n",
       "      <th>position</th>\n",
       "      <th>points</th>\n",
       "      <th>vorp</th>\n",
       "    </tr>\n",
       "    <tr>\n",
       "      <th>rank</th>\n",
       "      <th></th>\n",
       "      <th></th>\n",
       "      <th></th>\n",
       "      <th></th>\n",
       "    </tr>\n",
       "  </thead>\n",
       "  <tbody>\n",
       "    <tr>\n",
       "      <th>1.0</th>\n",
       "      <td>Nikita Kucherov</td>\n",
       "      <td>RW</td>\n",
       "      <td>361.1</td>\n",
       "      <td>75.38750</td>\n",
       "    </tr>\n",
       "    <tr>\n",
       "      <th>2.0</th>\n",
       "      <td>Leon Draisaitl</td>\n",
       "      <td>LW</td>\n",
       "      <td>333.1</td>\n",
       "      <td>58.51250</td>\n",
       "    </tr>\n",
       "    <tr>\n",
       "      <th>3.0</th>\n",
       "      <td>Connor McDavid</td>\n",
       "      <td>C</td>\n",
       "      <td>337.1</td>\n",
       "      <td>45.13750</td>\n",
       "    </tr>\n",
       "    <tr>\n",
       "      <th>4.0</th>\n",
       "      <td>Andrei Vasilevskiy</td>\n",
       "      <td>G</td>\n",
       "      <td>433.9</td>\n",
       "      <td>41.26250</td>\n",
       "    </tr>\n",
       "    <tr>\n",
       "      <th>5.0</th>\n",
       "      <td>Brent Burns</td>\n",
       "      <td>D</td>\n",
       "      <td>225.1</td>\n",
       "      <td>34.09375</td>\n",
       "    </tr>\n",
       "    <tr>\n",
       "      <th>6.0</th>\n",
       "      <td>Brad Marchand</td>\n",
       "      <td>LW</td>\n",
       "      <td>302.1</td>\n",
       "      <td>27.51250</td>\n",
       "    </tr>\n",
       "    <tr>\n",
       "      <th>7.0</th>\n",
       "      <td>Patrick Kane</td>\n",
       "      <td>RW</td>\n",
       "      <td>312.7</td>\n",
       "      <td>26.98750</td>\n",
       "    </tr>\n",
       "    <tr>\n",
       "      <th>8.0</th>\n",
       "      <td>Dustin Byfuglien</td>\n",
       "      <td>D</td>\n",
       "      <td>216.7</td>\n",
       "      <td>25.69375</td>\n",
       "    </tr>\n",
       "    <tr>\n",
       "      <th>9.0</th>\n",
       "      <td>Mark Giordano</td>\n",
       "      <td>D</td>\n",
       "      <td>210.2</td>\n",
       "      <td>19.19375</td>\n",
       "    </tr>\n",
       "    <tr>\n",
       "      <th>10.0</th>\n",
       "      <td>Morgan Rielly</td>\n",
       "      <td>D</td>\n",
       "      <td>208.0</td>\n",
       "      <td>16.99375</td>\n",
       "    </tr>\n",
       "    <tr>\n",
       "      <th>11.0</th>\n",
       "      <td>John Carlson</td>\n",
       "      <td>D</td>\n",
       "      <td>207.0</td>\n",
       "      <td>15.99375</td>\n",
       "    </tr>\n",
       "    <tr>\n",
       "      <th>12.0</th>\n",
       "      <td>Kris Letang</td>\n",
       "      <td>D</td>\n",
       "      <td>205.2</td>\n",
       "      <td>14.19375</td>\n",
       "    </tr>\n",
       "    <tr>\n",
       "      <th>13.0</th>\n",
       "      <td>Tyson Barrie</td>\n",
       "      <td>D</td>\n",
       "      <td>203.6</td>\n",
       "      <td>12.59375</td>\n",
       "    </tr>\n",
       "    <tr>\n",
       "      <th>14.0</th>\n",
       "      <td>Mikko Rantanen</td>\n",
       "      <td>RW</td>\n",
       "      <td>297.2</td>\n",
       "      <td>11.48750</td>\n",
       "    </tr>\n",
       "    <tr>\n",
       "      <th>15.0</th>\n",
       "      <td>Nathan MacKinnon</td>\n",
       "      <td>C</td>\n",
       "      <td>302.8</td>\n",
       "      <td>10.83750</td>\n",
       "    </tr>\n",
       "    <tr>\n",
       "      <th>16.0</th>\n",
       "      <td>Alex Ovechkin</td>\n",
       "      <td>LW</td>\n",
       "      <td>283.9</td>\n",
       "      <td>9.31250</td>\n",
       "    </tr>\n",
       "    <tr>\n",
       "      <th>17.0</th>\n",
       "      <td>Jordan Binnington</td>\n",
       "      <td>G</td>\n",
       "      <td>393.5</td>\n",
       "      <td>0.86250</td>\n",
       "    </tr>\n",
       "    <tr>\n",
       "      <th>18.0</th>\n",
       "      <td>Torey Krug</td>\n",
       "      <td>D</td>\n",
       "      <td>191.8</td>\n",
       "      <td>0.79375</td>\n",
       "    </tr>\n",
       "    <tr>\n",
       "      <th>19.0</th>\n",
       "      <td>Steven Stamkos</td>\n",
       "      <td>C</td>\n",
       "      <td>292.3</td>\n",
       "      <td>0.33750</td>\n",
       "    </tr>\n",
       "    <tr>\n",
       "      <th>20.0</th>\n",
       "      <td>Tuukka Rask</td>\n",
       "      <td>G</td>\n",
       "      <td>392.7</td>\n",
       "      <td>0.06250</td>\n",
       "    </tr>\n",
       "  </tbody>\n",
       "</table>\n",
       "</div>"
      ],
      "text/plain": [
       "                    name position  points      vorp\n",
       "rank                                               \n",
       "1.0      Nikita Kucherov       RW   361.1  75.38750\n",
       "2.0       Leon Draisaitl       LW   333.1  58.51250\n",
       "3.0       Connor McDavid        C   337.1  45.13750\n",
       "4.0   Andrei Vasilevskiy        G   433.9  41.26250\n",
       "5.0          Brent Burns        D   225.1  34.09375\n",
       "6.0        Brad Marchand       LW   302.1  27.51250\n",
       "7.0         Patrick Kane       RW   312.7  26.98750\n",
       "8.0     Dustin Byfuglien        D   216.7  25.69375\n",
       "9.0        Mark Giordano        D   210.2  19.19375\n",
       "10.0       Morgan Rielly        D   208.0  16.99375\n",
       "11.0        John Carlson        D   207.0  15.99375\n",
       "12.0         Kris Letang        D   205.2  14.19375\n",
       "13.0        Tyson Barrie        D   203.6  12.59375\n",
       "14.0      Mikko Rantanen       RW   297.2  11.48750\n",
       "15.0    Nathan MacKinnon        C   302.8  10.83750\n",
       "16.0       Alex Ovechkin       LW   283.9   9.31250\n",
       "17.0   Jordan Binnington        G   393.5   0.86250\n",
       "18.0          Torey Krug        D   191.8   0.79375\n",
       "19.0      Steven Stamkos        C   292.3   0.33750\n",
       "20.0         Tuukka Rask        G   392.7   0.06250"
      ]
     },
     "execution_count": 12,
     "metadata": {},
     "output_type": "execute_result"
    }
   ],
   "source": [
    "df['rank'] = df['vorp'].rank(method='average', ascending=False)\n",
    "df.sort_values('rank').set_index('rank').head(20)"
   ]
  },
  {
   "cell_type": "markdown",
   "metadata": {},
   "source": [
    "№14 Profit"
   ]
  }
 ],
 "metadata": {
  "kernel_info": {
   "name": "python3"
  },
  "kernelspec": {
   "display_name": "Python 3",
   "language": "python",
   "name": "python3"
  },
  "language_info": {
   "codemirror_mode": {
    "name": "ipython",
    "version": 3
   },
   "file_extension": ".py",
   "mimetype": "text/x-python",
   "name": "python",
   "nbconvert_exporter": "python",
   "pygments_lexer": "ipython3",
   "version": "3.7.3"
  },
  "nteract": {
   "version": "0.15.0"
  }
 },
 "nbformat": 4,
 "nbformat_minor": 2
}
