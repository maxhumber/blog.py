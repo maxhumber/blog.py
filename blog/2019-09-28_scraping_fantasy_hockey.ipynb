{
 "cells": [
  {
   "cell_type": "markdown",
   "metadata": {
    "inputHidden": false,
    "outputHidden": false
   },
   "source": [
    "```\n",
    "title: How to Win Fantasy Hockey\n",
    "date: 2019-09-28\n",
    "tags: python\n",
    "slug: scraping_fantasy_hockey\n",
    "```"
   ]
  },
  {
   "cell_type": "markdown",
   "metadata": {},
   "source": [
    "#### How to Win Fantasy Hockey"
   ]
  },
  {
   "cell_type": "markdown",
   "metadata": {},
   "source": [
    "*A recipe for using python to scrape player projection data and build a value over replacement ranking model*\n",
    "\n",
    "Jupyter notebook for this blog post available [here](https://github.com/maxhumber/maxhumber.com/blob/master/blog/2019-09-28_scraping_fantasy_hockey.ipynb)\n",
    "<br/>\n",
    "<br/>"
   ]
  },
  {
   "cell_type": "markdown",
   "metadata": {},
   "source": [
    "№1 Identify a data source ([CBS Sports](https://www.cbssports.com/fantasy/hockey/stats/F/2019/season/projections/) is a good option)"
   ]
  },
  {
   "cell_type": "markdown",
   "metadata": {},
   "source": [
    "№2 `get` the html data with [gazpacho](https://maxhumber.github.io/gazpacho/)"
   ]
  },
  {
   "cell_type": "code",
   "execution_count": 1,
   "metadata": {},
   "outputs": [],
   "source": [
    "from gazpacho import get\n",
    "\n",
    "position = 'F'\n",
    "\n",
    "base = f'https://www.cbssports.com/fantasy/hockey/stats'\n",
    "url = f'{base}/{position}/2019/season/projections/'\n",
    "\n",
    "html = get(url)"
   ]
  },
  {
   "cell_type": "markdown",
   "metadata": {},
   "source": [
    "№3 Pass the captured html to a `Soup` parser"
   ]
  },
  {
   "cell_type": "code",
   "execution_count": 2,
   "metadata": {},
   "outputs": [],
   "source": [
    "from gazpacho import Soup\n",
    "\n",
    "soup = Soup(html)"
   ]
  },
  {
   "cell_type": "markdown",
   "metadata": {},
   "source": [
    "№4 `find` the html tags that contain player projection data"
   ]
  },
  {
   "cell_type": "code",
   "execution_count": 3,
   "metadata": {},
   "outputs": [],
   "source": [
    "# HTML: <tr class=\"TableBase-bodyTr \">\n",
    "rows = soup.find('tr', {'class': 'TableBase-bodyTr '})"
   ]
  },
  {
   "cell_type": "markdown",
   "metadata": {},
   "source": [
    "№5. Capture a single row (and inspect for good measure)"
   ]
  },
  {
   "cell_type": "code",
   "execution_count": 4,
   "metadata": {},
   "outputs": [],
   "source": [
    "row = rows[0]"
   ]
  },
  {
   "cell_type": "markdown",
   "metadata": {},
   "source": [
    "№6 Use `find` to grab those tags that map to player name, position, and projected Fantasy Points"
   ]
  },
  {
   "cell_type": "code",
   "execution_count": 5,
   "metadata": {},
   "outputs": [
    {
     "data": {
      "text/plain": [
       "366.5"
      ]
     },
     "execution_count": 5,
     "metadata": {},
     "output_type": "execute_result"
    }
   ],
   "source": [
    "# name\n",
    "row.find('span', {'class': 'CellPlayerName--long'}).find('a').text\n",
    "\n",
    "# position\n",
    "(row.find('span', {'class': 'CellPlayerName--long'})\n",
    "     .find('span', {'class': 'CellPlayerName-position'}).text\n",
    ")\n",
    "\n",
    "# points\n",
    "float(row.find('td', {'class': 'TableBase-bodyTd'})[1].text)"
   ]
  },
  {
   "cell_type": "markdown",
   "metadata": {},
   "source": [
    "№7 Wrap these `find` operations into a function"
   ]
  },
  {
   "cell_type": "code",
   "execution_count": 6,
   "metadata": {},
   "outputs": [
    {
     "data": {
      "text/plain": [
       "('Nikita Kucherov', 'RW', 366.5)"
      ]
     },
     "execution_count": 6,
     "metadata": {},
     "output_type": "execute_result"
    }
   ],
   "source": [
    "row = rows[0]\n",
    "\n",
    "def parse_row(row):\n",
    "    meta = row.find('span', {'class': 'CellPlayerName--long'})\n",
    "    try:\n",
    "        name = meta.find('a').text\n",
    "    except AttributeError:\n",
    "        name = meta.text\n",
    "    position = meta.find('span', {'class': 'CellPlayerName-position'}).text\n",
    "    points = float(row.find('td', {'class': 'TableBase-bodyTd'})[1].text)\n",
    "    return name, position, points\n",
    "\n",
    "parse_row(row)"
   ]
  },
  {
   "cell_type": "markdown",
   "metadata": {},
   "source": [
    "№8 Make sure that the function works for all the captured rows"
   ]
  },
  {
   "cell_type": "code",
   "execution_count": 7,
   "metadata": {},
   "outputs": [
    {
     "data": {
      "text/plain": [
       "[('David Perron', 'RW', 143.5), ('Dylan Strome', 'C', 143.0)]"
      ]
     },
     "execution_count": 7,
     "metadata": {},
     "output_type": "execute_result"
    }
   ],
   "source": [
    "players = []\n",
    "for row in rows:\n",
    "    try: \n",
    "        players.append(parse_row(row))\n",
    "    except AttributeError:\n",
    "        pass\n",
    "players[-2:]"
   ]
  },
  {
   "cell_type": "markdown",
   "metadata": {},
   "source": [
    "№9 Bundle up the logic so that it can be applied to multiple pages"
   ]
  },
  {
   "cell_type": "code",
   "execution_count": 8,
   "metadata": {},
   "outputs": [],
   "source": [
    "def scrape_position(position):\n",
    "    base = f'https://www.cbssports.com/fantasy/hockey/stats'\n",
    "    url = f'{base}/{position}/2019/season/projections/'\n",
    "    html = get(url)\n",
    "    soup = Soup(html)\n",
    "    rows = soup.find('tr', {'class': 'TableBase-bodyTr '})\n",
    "    data = []\n",
    "    for row in rows:\n",
    "        try: \n",
    "            data.append(parse_row(row))\n",
    "        except AttributeError:\n",
    "            pass\n",
    "    return data"
   ]
  },
  {
   "cell_type": "markdown",
   "metadata": {},
   "source": [
    "№10 Scrape each page that contains player projection data"
   ]
  },
  {
   "cell_type": "code",
   "execution_count": 9,
   "metadata": {},
   "outputs": [],
   "source": [
    "# F for Forwards\n",
    "# D for Defence\n",
    "# G for goalies\n",
    "\n",
    "import time\n",
    "\n",
    "data = []\n",
    "for position in ['F', 'D', 'G']:\n",
    "    d = scrape_position(position)\n",
    "    data.extend(d)\n",
    "    time.sleep(1)"
   ]
  },
  {
   "cell_type": "markdown",
   "metadata": {},
   "source": [
    "№11 Stuff the captured data into a pandas `DataFrame`"
   ]
  },
  {
   "cell_type": "code",
   "execution_count": 10,
   "metadata": {},
   "outputs": [
    {
     "data": {
      "text/html": [
       "<div>\n",
       "<style scoped>\n",
       "    .dataframe tbody tr th:only-of-type {\n",
       "        vertical-align: middle;\n",
       "    }\n",
       "\n",
       "    .dataframe tbody tr th {\n",
       "        vertical-align: top;\n",
       "    }\n",
       "\n",
       "    .dataframe thead th {\n",
       "        text-align: right;\n",
       "    }\n",
       "</style>\n",
       "<table border=\"1\" class=\"dataframe\">\n",
       "  <thead>\n",
       "    <tr style=\"text-align: right;\">\n",
       "      <th></th>\n",
       "      <th>name</th>\n",
       "      <th>position</th>\n",
       "      <th>points</th>\n",
       "    </tr>\n",
       "  </thead>\n",
       "  <tbody>\n",
       "    <tr>\n",
       "      <th>122</th>\n",
       "      <td>Jake Muzzin</td>\n",
       "      <td>D</td>\n",
       "      <td>163.8</td>\n",
       "    </tr>\n",
       "    <tr>\n",
       "      <th>239</th>\n",
       "      <td>Anders Nilsson</td>\n",
       "      <td>G</td>\n",
       "      <td>176.4</td>\n",
       "    </tr>\n",
       "    <tr>\n",
       "      <th>11</th>\n",
       "      <td>Johnny Gaudreau</td>\n",
       "      <td>LW</td>\n",
       "      <td>270.0</td>\n",
       "    </tr>\n",
       "    <tr>\n",
       "      <th>220</th>\n",
       "      <td>Henrik Lundqvist</td>\n",
       "      <td>G</td>\n",
       "      <td>246.2</td>\n",
       "    </tr>\n",
       "    <tr>\n",
       "      <th>82</th>\n",
       "      <td>Kyle Palmieri</td>\n",
       "      <td>RW</td>\n",
       "      <td>150.5</td>\n",
       "    </tr>\n",
       "  </tbody>\n",
       "</table>\n",
       "</div>"
      ],
      "text/plain": [
       "                 name position  points\n",
       "122       Jake Muzzin        D   163.8\n",
       "239    Anders Nilsson        G   176.4\n",
       "11    Johnny Gaudreau       LW   270.0\n",
       "220  Henrik Lundqvist        G   246.2\n",
       "82      Kyle Palmieri       RW   150.5"
      ]
     },
     "execution_count": 10,
     "metadata": {},
     "output_type": "execute_result"
    }
   ],
   "source": [
    "import pandas as pd\n",
    "\n",
    "df = pd.DataFrame(data, columns=['name', 'position', 'points'])\n",
    "df.sample(5)"
   ]
  },
  {
   "cell_type": "markdown",
   "metadata": {},
   "source": [
    "№12 Calculate the <a href=\"https://en.wikipedia.org/wiki/Value_over_replacement_player\">value over player replacement</a> score for each player"
   ]
  },
  {
   "cell_type": "code",
   "execution_count": 11,
   "metadata": {},
   "outputs": [],
   "source": [
    "pool_size = 8\n",
    "starters = {'C': 1, 'LW': 1, 'RW': 1, 'D': 2, 'G': 1}\n",
    "\n",
    "for position, slots in starters.items():\n",
    "    replacement = (\n",
    "        df[df['position'] == position]\n",
    "        .sort_values('points', ascending=False)\n",
    "        .head(slots * pool_size)\n",
    "        ['points']\n",
    "        .mean()\n",
    "    )\n",
    "    df.loc[df['position'] == position, 'vorp'] = df['points'] - replacement"
   ]
  },
  {
   "cell_type": "markdown",
   "metadata": {},
   "source": [
    "№13 Re-rank and draft players according to their VORP rank"
   ]
  },
  {
   "cell_type": "code",
   "execution_count": 12,
   "metadata": {},
   "outputs": [
    {
     "data": {
      "text/html": [
       "<div>\n",
       "<style scoped>\n",
       "    .dataframe tbody tr th:only-of-type {\n",
       "        vertical-align: middle;\n",
       "    }\n",
       "\n",
       "    .dataframe tbody tr th {\n",
       "        vertical-align: top;\n",
       "    }\n",
       "\n",
       "    .dataframe thead th {\n",
       "        text-align: right;\n",
       "    }\n",
       "</style>\n",
       "<table border=\"1\" class=\"dataframe\">\n",
       "  <thead>\n",
       "    <tr style=\"text-align: right;\">\n",
       "      <th></th>\n",
       "      <th>name</th>\n",
       "      <th>position</th>\n",
       "      <th>points</th>\n",
       "      <th>vorp</th>\n",
       "    </tr>\n",
       "    <tr>\n",
       "      <th>rank</th>\n",
       "      <th></th>\n",
       "      <th></th>\n",
       "      <th></th>\n",
       "      <th></th>\n",
       "    </tr>\n",
       "  </thead>\n",
       "  <tbody>\n",
       "    <tr>\n",
       "      <th>1.0</th>\n",
       "      <td>Nikita Kucherov</td>\n",
       "      <td>RW</td>\n",
       "      <td>366.5</td>\n",
       "      <td>103.9375</td>\n",
       "    </tr>\n",
       "    <tr>\n",
       "      <th>2.0</th>\n",
       "      <td>Mark Giordano</td>\n",
       "      <td>D</td>\n",
       "      <td>322.3</td>\n",
       "      <td>93.1500</td>\n",
       "    </tr>\n",
       "    <tr>\n",
       "      <th>3.0</th>\n",
       "      <td>Brent Burns</td>\n",
       "      <td>D</td>\n",
       "      <td>317.5</td>\n",
       "      <td>88.3500</td>\n",
       "    </tr>\n",
       "    <tr>\n",
       "      <th>4.0</th>\n",
       "      <td>Morgan Rielly</td>\n",
       "      <td>D</td>\n",
       "      <td>289.5</td>\n",
       "      <td>60.3500</td>\n",
       "    </tr>\n",
       "    <tr>\n",
       "      <th>5.0</th>\n",
       "      <td>Leon Draisaitl</td>\n",
       "      <td>LW</td>\n",
       "      <td>310.0</td>\n",
       "      <td>47.6125</td>\n",
       "    </tr>\n",
       "    <tr>\n",
       "      <th>6.0</th>\n",
       "      <td>John Carlson</td>\n",
       "      <td>D</td>\n",
       "      <td>271.5</td>\n",
       "      <td>42.3500</td>\n",
       "    </tr>\n",
       "    <tr>\n",
       "      <th>7.0</th>\n",
       "      <td>Brad Marchand</td>\n",
       "      <td>LW</td>\n",
       "      <td>298.0</td>\n",
       "      <td>35.6125</td>\n",
       "    </tr>\n",
       "    <tr>\n",
       "      <th>8.0</th>\n",
       "      <td>Andrei Vasilevskiy</td>\n",
       "      <td>G</td>\n",
       "      <td>409.5</td>\n",
       "      <td>35.1250</td>\n",
       "    </tr>\n",
       "    <tr>\n",
       "      <th>9.0</th>\n",
       "      <td>Patrick Kane</td>\n",
       "      <td>RW</td>\n",
       "      <td>289.5</td>\n",
       "      <td>26.9375</td>\n",
       "    </tr>\n",
       "    <tr>\n",
       "      <th>10.0</th>\n",
       "      <td>Connor McDavid</td>\n",
       "      <td>C</td>\n",
       "      <td>300.0</td>\n",
       "      <td>19.9000</td>\n",
       "    </tr>\n",
       "    <tr>\n",
       "      <th>11.0</th>\n",
       "      <td>Alex Ovechkin</td>\n",
       "      <td>LW</td>\n",
       "      <td>282.0</td>\n",
       "      <td>19.6125</td>\n",
       "    </tr>\n",
       "    <tr>\n",
       "      <th>12.0</th>\n",
       "      <td>Brayden Point</td>\n",
       "      <td>C</td>\n",
       "      <td>299.0</td>\n",
       "      <td>18.9000</td>\n",
       "    </tr>\n",
       "    <tr>\n",
       "      <th>13.0</th>\n",
       "      <td>Steven Stamkos</td>\n",
       "      <td>C</td>\n",
       "      <td>294.3</td>\n",
       "      <td>14.2000</td>\n",
       "    </tr>\n",
       "    <tr>\n",
       "      <th>14.0</th>\n",
       "      <td>Carey Price</td>\n",
       "      <td>G</td>\n",
       "      <td>386.7</td>\n",
       "      <td>12.3250</td>\n",
       "    </tr>\n",
       "    <tr>\n",
       "      <th>15.0</th>\n",
       "      <td>Nathan MacKinnon</td>\n",
       "      <td>C</td>\n",
       "      <td>291.5</td>\n",
       "      <td>11.4000</td>\n",
       "    </tr>\n",
       "    <tr>\n",
       "      <th>16.0</th>\n",
       "      <td>Frederik Andersen</td>\n",
       "      <td>G</td>\n",
       "      <td>382.7</td>\n",
       "      <td>8.3250</td>\n",
       "    </tr>\n",
       "    <tr>\n",
       "      <th>17.0</th>\n",
       "      <td>Johnny Gaudreau</td>\n",
       "      <td>LW</td>\n",
       "      <td>270.0</td>\n",
       "      <td>7.6125</td>\n",
       "    </tr>\n",
       "    <tr>\n",
       "      <th>18.0</th>\n",
       "      <td>Sidney Crosby</td>\n",
       "      <td>C</td>\n",
       "      <td>286.0</td>\n",
       "      <td>5.9000</td>\n",
       "    </tr>\n",
       "    <tr>\n",
       "      <th>19.0</th>\n",
       "      <td>Sergei Bobrovsky</td>\n",
       "      <td>G</td>\n",
       "      <td>380.1</td>\n",
       "      <td>5.7250</td>\n",
       "    </tr>\n",
       "    <tr>\n",
       "      <th>20.0</th>\n",
       "      <td>Connor Hellebuyck</td>\n",
       "      <td>G</td>\n",
       "      <td>378.4</td>\n",
       "      <td>4.0250</td>\n",
       "    </tr>\n",
       "  </tbody>\n",
       "</table>\n",
       "</div>"
      ],
      "text/plain": [
       "                    name position  points      vorp\n",
       "rank                                               \n",
       "1.0      Nikita Kucherov       RW   366.5  103.9375\n",
       "2.0        Mark Giordano        D   322.3   93.1500\n",
       "3.0          Brent Burns        D   317.5   88.3500\n",
       "4.0        Morgan Rielly        D   289.5   60.3500\n",
       "5.0       Leon Draisaitl       LW   310.0   47.6125\n",
       "6.0         John Carlson        D   271.5   42.3500\n",
       "7.0        Brad Marchand       LW   298.0   35.6125\n",
       "8.0   Andrei Vasilevskiy        G   409.5   35.1250\n",
       "9.0         Patrick Kane       RW   289.5   26.9375\n",
       "10.0      Connor McDavid        C   300.0   19.9000\n",
       "11.0       Alex Ovechkin       LW   282.0   19.6125\n",
       "12.0       Brayden Point        C   299.0   18.9000\n",
       "13.0      Steven Stamkos        C   294.3   14.2000\n",
       "14.0         Carey Price        G   386.7   12.3250\n",
       "15.0    Nathan MacKinnon        C   291.5   11.4000\n",
       "16.0   Frederik Andersen        G   382.7    8.3250\n",
       "17.0     Johnny Gaudreau       LW   270.0    7.6125\n",
       "18.0       Sidney Crosby        C   286.0    5.9000\n",
       "19.0    Sergei Bobrovsky        G   380.1    5.7250\n",
       "20.0   Connor Hellebuyck        G   378.4    4.0250"
      ]
     },
     "execution_count": 12,
     "metadata": {},
     "output_type": "execute_result"
    }
   ],
   "source": [
    "df['rank'] = df['vorp'].rank(method='average', ascending=False)\n",
    "df.sort_values('rank').set_index('rank').head(20)"
   ]
  },
  {
   "cell_type": "markdown",
   "metadata": {},
   "source": [
    "№14 Profit"
   ]
  }
 ],
 "metadata": {
  "kernel_info": {
   "name": "python3"
  },
  "kernelspec": {
   "display_name": "Python 3",
   "language": "python",
   "name": "python3"
  },
  "language_info": {
   "codemirror_mode": {
    "name": "ipython",
    "version": 3
   },
   "file_extension": ".py",
   "mimetype": "text/x-python",
   "name": "python",
   "nbconvert_exporter": "python",
   "pygments_lexer": "ipython3",
   "version": "3.7.3"
  },
  "nteract": {
   "version": "0.15.0"
  }
 },
 "nbformat": 4,
 "nbformat_minor": 2
}
