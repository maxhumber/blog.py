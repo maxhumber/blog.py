{
 "cells": [
  {
   "cell_type": "markdown",
   "metadata": {},
   "source": [
    "mummify just earned it's [v1.0](https://pypi.org/project/mummify/1.0/) release.\n",
    "\n",
    "It's kind of scary to label software as production ready.\n",
    "\n",
    "\n",
    "\n",
    "I started writing the library about a year-and-a-half ago. And debuted it at AnacondaCON 2018 to warm reception.\n",
    "\n",
    "I've been using it fully rewrote t\n",
    "\n",
    "using `subprocess.run()` the 3.6+ way of doing things. \n",
    "\n",
    "\n",
    "\n",
    "because I sucked (and still suck) at git."
   ]
  }
 ],
 "metadata": {
  "kernelspec": {
   "display_name": "Python 3",
   "language": "python",
   "name": "python3"
  },
  "language_info": {
   "codemirror_mode": {
    "name": "ipython",
    "version": 3
   },
   "file_extension": ".py",
   "mimetype": "text/x-python",
   "name": "python",
   "nbconvert_exporter": "python",
   "pygments_lexer": "ipython3",
   "version": "3.7.3"
  }
 },
 "nbformat": 4,
 "nbformat_minor": 2
}
